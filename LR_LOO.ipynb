{
 "cells": [
  {
   "cell_type": "code",
   "execution_count": 1564,
   "metadata": {},
   "outputs": [],
   "source": [
    "from sklearn.preprocessing import StandardScaler, MinMaxScaler\n",
    "import pandas as pd\n",
    "import numpy as np\n",
    "from imblearn.over_sampling import SMOTE, BorderlineSMOTE, ADASYN\n",
    "from sklearn.model_selection import GridSearchCV, GroupKFold\n",
    "from sklearn.linear_model import LinearRegression\n",
    "import sys\n",
    "import pickle\n",
    "from sklearn.metrics import r2_score\n",
    "from sklearn.linear_model import HuberRegressor"
   ]
  },
  {
   "cell_type": "code",
   "execution_count": 1565,
   "metadata": {},
   "outputs": [],
   "source": [
    "model = LinearRegression()"
   ]
  },
  {
   "cell_type": "code",
   "execution_count": 1566,
   "metadata": {},
   "outputs": [],
   "source": [
    "random_state = 12\n",
    "min_cells = 7"
   ]
  },
  {
   "cell_type": "code",
   "execution_count": 1567,
   "metadata": {},
   "outputs": [],
   "source": [
    "df = pd.read_csv(\"transformed_coords_1to2.txt\",\n",
    "                 sep = \"\\t\", header=None, names=[\"OR\", \"X\", \"Y\", \"EXP\"])"
   ]
  },
  {
   "cell_type": "code",
   "execution_count": 1568,
   "metadata": {},
   "outputs": [
    {
     "name": "stdout",
     "output_type": "stream",
     "text": [
      "77 ORs with Slide-seq coordinates\n"
     ]
    }
   ],
   "source": [
    "# Average coordinates shared between the two experiments\n",
    "df = df.groupby(\"OR\").agg({\"X\" : \"mean\", \"Y\" : \"mean\", \"EXP\" : \"sum\"})\n",
    "# This is just a quick and dirty way to remove the OR that falls of the slide without knowing its ID\n",
    "df = df[df[\"Y\"] < 0]\n",
    "ORs = sorted(list(df.index))\n",
    "print(\"{} ORs with Slide-seq coordinates\".format(len(ORs)))\n",
    "# Convert coordinates to a dictionary keyed on OR\n",
    "coords = df[[\"X\", \"Y\"]].to_dict(\"index\")\n",
    "# Fit scaler so it stores the min and max of the x and y coordinates\n",
    "scaler_y = MinMaxScaler().fit(df[[\"X\", \"Y\"]].values)"
   ]
  },
  {
   "cell_type": "code",
   "execution_count": 1569,
   "metadata": {},
   "outputs": [],
   "source": [
    "df = pd.read_csv(\"OSN_all_50SPCs_2000G.csv\", index_col=0)"
   ]
  },
  {
   "cell_type": "code",
   "execution_count": 1570,
   "metadata": {},
   "outputs": [],
   "source": [
    "df.rename(columns={\"observed\": \"OR\"}, inplace=True)\n",
    "df.rename(columns={\"OR_identity\": \"OR\"}, inplace=True)\n",
    "df.drop(df.columns[len(df.columns)-1], axis=1, inplace=True)\n"
   ]
  },
  {
   "cell_type": "code",
   "execution_count": 1571,
   "metadata": {},
   "outputs": [
    {
     "name": "stdout",
     "output_type": "stream",
     "text": [
      "                          SPC_1      SPC_2     SPC_3     SPC_4     SPC_5  \\\n",
      "V3F1_CAACGGCAGTAAACAC  2.204747   2.702510  1.306022 -5.855968 -0.499848   \n",
      "V3F3_GAGACCCTCTGAGCAT  7.649368  -3.261961  1.164442 -4.717881 -3.080400   \n",
      "V3F1_GAGGGATGTAGCCCTG  3.425824  10.987341  0.713193 -0.977275 -3.692072   \n",
      "V3F3_ACGTAGTCAGGACAGT  7.682670   3.251003 -5.206459 -1.062002 -3.356139   \n",
      "V3M1_ACCAAACCAAGTGACG -2.742237   3.922319 -2.571446  8.210359  5.703357   \n",
      "\n",
      "                          SPC_6     SPC_7     SPC_8     SPC_9    SPC_10  ...  \\\n",
      "V3F1_CAACGGCAGTAAACAC -0.473495 -0.340626 -0.443413  0.688596  1.315484  ...   \n",
      "V3F3_GAGACCCTCTGAGCAT -2.028103  0.584709  0.125866 -1.427942  0.957374  ...   \n",
      "V3F1_GAGGGATGTAGCCCTG -3.463886 -2.170145  0.206280 -1.082710 -0.005097  ...   \n",
      "V3F3_ACGTAGTCAGGACAGT  0.702868 -5.473109  2.582588 -2.513732  3.346870  ...   \n",
      "V3M1_ACCAAACCAAGTGACG  7.302127 -3.774360 -3.498602 -2.846654  6.789442  ...   \n",
      "\n",
      "                         SPC_32    SPC_33    SPC_34    SPC_35    SPC_36  \\\n",
      "V3F1_CAACGGCAGTAAACAC  0.353344 -1.186776 -0.733857 -1.561794 -0.589714   \n",
      "V3F3_GAGACCCTCTGAGCAT -1.640749  1.534964  0.524125  0.468364 -0.329403   \n",
      "V3F1_GAGGGATGTAGCCCTG  2.145344 -0.115462  0.160951 -3.006004 -2.124029   \n",
      "V3F3_ACGTAGTCAGGACAGT  1.158134 -0.933946 -1.770462 -0.653667  0.156972   \n",
      "V3M1_ACCAAACCAAGTGACG -0.230050  2.085040  1.256331 -1.888737 -1.709985   \n",
      "\n",
      "                         SPC_37    SPC_38    SPC_39    SPC_40        OR  \n",
      "V3F1_CAACGGCAGTAAACAC -0.266348 -0.150553 -0.223444 -0.648806   Olfr477  \n",
      "V3F3_GAGACCCTCTGAGCAT -1.721287  0.799420  1.658941  0.689557   Olfr354  \n",
      "V3F1_GAGGGATGTAGCCCTG -2.213401  0.214213  1.434367 -0.600034   Olfr711  \n",
      "V3F3_ACGTAGTCAGGACAGT -1.660141  1.387806  1.251410 -1.577535     Olfr3  \n",
      "V3M1_ACCAAACCAAGTGACG -0.323736 -0.041873  1.044744 -0.644344  Olfr1080  \n",
      "\n",
      "[5 rows x 41 columns]\n"
     ]
    }
   ],
   "source": [
    "df.drop(df.columns[40:50], axis=1,inplace=True)\n",
    "print(df.head())"
   ]
  },
  {
   "cell_type": "code",
   "execution_count": 1572,
   "metadata": {},
   "outputs": [],
   "source": [
    "df = df[df[\"OR\"].isin(ORs)]"
   ]
  },
  {
   "cell_type": "code",
   "execution_count": 1573,
   "metadata": {},
   "outputs": [
    {
     "name": "stdout",
     "output_type": "stream",
     "text": [
      "['Olfr1000', 'Olfr1031', 'Olfr1086', 'Olfr118', 'Olfr1357', 'Olfr1424', 'Olfr1477', 'Olfr1496', 'Olfr433', 'Olfr517', 'Olfr749', 'Olfr822', 'Olfr994']\n"
     ]
    }
   ],
   "source": [
    "ORs_to_exclude = [x for x in ORs if len(df[df[\"OR\"] == x]) < min_cells]\n",
    "print(ORs_to_exclude)\n",
    "df = df[~df[\"OR\"].isin(ORs_to_exclude)]"
   ]
  },
  {
   "cell_type": "code",
   "execution_count": 1574,
   "metadata": {},
   "outputs": [
    {
     "name": "stdout",
     "output_type": "stream",
     "text": [
      "13 ORs with Slide-seq coordinates but no gene expression\n",
      "64 ORs remaining\n"
     ]
    }
   ],
   "source": [
    "print(\"{} ORs with Slide-seq coordinates but no gene expression\".format(len(ORs_to_exclude)))\n",
    "ORs = [x for x in ORs if len(df[df[\"OR\"] == x]) >= min_cells]\n",
    "print(\"{} ORs remaining\".format(len(ORs)))"
   ]
  },
  {
   "cell_type": "code",
   "execution_count": 1575,
   "metadata": {},
   "outputs": [],
   "source": [
    "n_col = len(df.columns)\n",
    "appended_data = []\n",
    "for z in ORs:\n",
    "    OR = z\n",
    "    X_train = df[(df[\"OR\"] != OR)].values[:,0:(n_col - 1)]\n",
    "    X_test = df[(df[\"OR\"] == OR)].values[:,0:(n_col - 1)]\n",
    "    train_ors = np.array(df[(df[\"OR\"] != OR)].iloc[:,(n_col - 1)])\n",
    "    test_ors = np.array(df[(df[\"OR\"] == OR)].iloc[:,(n_col - 1)])\n",
    "    \n",
    "    #oversample = BorderlineSMOTE(random_state=random_state, k_neighbors=4)\n",
    "    #oversample = ADASYN(sampling_strategy='minority')\n",
    "    oversample = BorderlineSMOTE(random_state=random_state)\n",
    "    X_train, train_ors = oversample.fit_resample(X_train, train_ors)\n",
    "\n",
    "    y_train = []\n",
    "    for i in range(train_ors.shape[0]):\n",
    "        y_train.append([coords[train_ors[i]][\"X\"], coords[train_ors[i]][\"Y\"]])\n",
    "    y_test = []\n",
    "    for i in range(test_ors.shape[0]):\n",
    "        y_test.append([coords[test_ors[i]][\"X\"], coords[test_ors[i]][\"Y\"]])\n",
    "    y_train = np.array(y_train)\n",
    "    y_test = np.array(y_test)\n",
    "    \n",
    "    \n",
    "    model.fit(X_train, y_train)\n",
    "    y_pred = model.predict(X_test)\n",
    "    for i in range(y_test.shape[0]):\n",
    "        appended_data.append([\"x\", OR, y_test[i,0], y_pred[i,0]])\n",
    "        appended_data.append([\"y\", OR, y_test[i,1], y_pred[i,1]])"
   ]
  },
  {
   "cell_type": "code",
   "execution_count": 1576,
   "metadata": {},
   "outputs": [],
   "source": [
    "appended_data = pd.DataFrame(appended_data, columns = [\"axis\",\"OR\",\"observed\",\"predicted\"])"
   ]
  },
  {
   "cell_type": "code",
   "execution_count": 1577,
   "metadata": {},
   "outputs": [],
   "source": [
    "datax = appended_data[appended_data[\"axis\"] == \"x\"]\n",
    "datay = appended_data[appended_data[\"axis\"] == \"y\"]"
   ]
  },
  {
   "cell_type": "code",
   "execution_count": 1578,
   "metadata": {},
   "outputs": [
    {
     "name": "stdout",
     "output_type": "stream",
     "text": [
      "X R2 = 0.5221460554177 \t Y R2 = 0.6278000297971973\n"
     ]
    }
   ],
   "source": [
    "print(\"X R2 = {} \\t Y R2 = {}\".format(r2_score(datax.iloc[:,2],datax.iloc[:,3]),r2_score(datay.iloc[:,2],datay.iloc[:,3])))"
   ]
  },
  {
   "cell_type": "code",
   "execution_count": 1579,
   "metadata": {},
   "outputs": [],
   "source": [
    "datax2 = datax.groupby(['OR']).mean()\n",
    "datay2 = datay.groupby(['OR']).mean()"
   ]
  },
  {
   "cell_type": "code",
   "execution_count": 1580,
   "metadata": {},
   "outputs": [
    {
     "name": "stdout",
     "output_type": "stream",
     "text": [
      "X R2 = 0.6960795967404123 \t Y R2 = 0.830374525137265\n"
     ]
    }
   ],
   "source": [
    "print(\"X R2 = {} \\t Y R2 = {}\".format(r2_score(datax2.iloc[:,0],datax2.iloc[:,1]),r2_score(datay2.iloc[:,0],datay2.iloc[:,1])))"
   ]
  },
  {
   "cell_type": "code",
   "execution_count": 1583,
   "metadata": {},
   "outputs": [],
   "source": [
    "datax2.to_csv(\"data/LR_LOO_x.csv\")\n",
    "datay2.to_csv(\"data/LR_LOO_y.csv\")"
   ]
  },
  {
   "cell_type": "code",
   "execution_count": null,
   "metadata": {},
   "outputs": [],
   "source": []
  }
 ],
 "metadata": {
  "kernelspec": {
   "display_name": "Python 3",
   "language": "python",
   "name": "python3"
  },
  "language_info": {
   "codemirror_mode": {
    "name": "ipython",
    "version": 3
   },
   "file_extension": ".py",
   "mimetype": "text/x-python",
   "name": "python",
   "nbconvert_exporter": "python",
   "pygments_lexer": "ipython3",
   "version": "3.7.6"
  }
 },
 "nbformat": 4,
 "nbformat_minor": 4
}
