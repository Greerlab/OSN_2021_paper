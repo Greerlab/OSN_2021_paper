{
 "cells": [
  {
   "cell_type": "code",
   "execution_count": 48,
   "metadata": {},
   "outputs": [],
   "source": [
    "from sklearn.preprocessing import StandardScaler, MinMaxScaler\n",
    "import pandas as pd\n",
    "import numpy as np\n",
    "from imblearn.over_sampling import SMOTE, BorderlineSMOTE, ADASYN\n",
    "from sklearn.model_selection import GridSearchCV, GroupKFold\n",
    "from sklearn.linear_model import LinearRegression\n",
    "import sys\n",
    "import pickle\n",
    "from sklearn.metrics import r2_score, mean_absolute_error\n",
    "from sklearn.linear_model import HuberRegressor"
   ]
  },
  {
   "cell_type": "code",
   "execution_count": 91,
   "metadata": {},
   "outputs": [],
   "source": [
    "model = LinearRegression()"
   ]
  },
  {
   "cell_type": "code",
   "execution_count": 107,
   "metadata": {},
   "outputs": [],
   "source": [
    "random_state = 12\n",
    "min_cells = 7"
   ]
  },
  {
   "cell_type": "code",
   "execution_count": 108,
   "metadata": {},
   "outputs": [],
   "source": [
    "df = pd.read_csv(\"data/transformed_coords_1to2.txt\",\n",
    "                 sep = \"\\t\", header=None, names=[\"OR\", \"X\", \"Y\", \"EXP\"])"
   ]
  },
  {
   "cell_type": "code",
   "execution_count": 109,
   "metadata": {},
   "outputs": [
    {
     "name": "stdout",
     "output_type": "stream",
     "text": [
      "77 ORs with Slide-seq coordinates\n"
     ]
    }
   ],
   "source": [
    "# Average coordinates shared between the two experiments\n",
    "df = df.groupby(\"OR\").agg({\"X\" : \"mean\", \"Y\" : \"mean\", \"EXP\" : \"sum\"})\n",
    "# This is just a quick and dirty way to remove the OR that falls of the slide without knowing its ID\n",
    "df = df[df[\"Y\"] < 0]\n",
    "ORs = sorted(list(df.index))\n",
    "print(\"{} ORs with Slide-seq coordinates\".format(len(ORs)))\n",
    "# Convert coordinates to a dictionary keyed on OR\n",
    "coords = df[[\"X\", \"Y\"]].to_dict(\"index\")\n",
    "# Fit scaler so it stores the min and max of the x and y coordinates\n",
    "scaler_y = MinMaxScaler().fit(df[[\"X\", \"Y\"]].values)"
   ]
  },
  {
   "cell_type": "code",
   "execution_count": 110,
   "metadata": {},
   "outputs": [],
   "source": [
    "df = pd.read_csv(\"data/LR_OSN_all_50PCs_3000G.csv\", index_col=0)"
   ]
  },
  {
   "cell_type": "code",
   "execution_count": 111,
   "metadata": {},
   "outputs": [
    {
     "name": "stdout",
     "output_type": "stream",
     "text": [
      "                       harmony_1  harmony_2  harmony_3  harmony_4  harmony_5  \\\n",
      "V3F1_CAACGGCAGTAAACAC   2.558849   0.506802  -2.369886   1.874797   1.657120   \n",
      "V3F3_GAGACCCTCTGAGCAT  -0.964222  -6.844951  -1.793788  -0.045801  -0.452054   \n",
      "V3F1_GAGGGATGTAGCCCTG  10.467781   2.561541   2.176045   1.047865  -2.936098   \n",
      "V3F3_ACGTAGTCAGGACAGT   3.855414  -3.486225   2.411903  -5.956743  -2.668481   \n",
      "V3M1_ACCAAACCAAGTGACG   3.137225   3.418350   4.027432  -0.138194   0.723199   \n",
      "\n",
      "                       harmony_6  harmony_7  harmony_8  harmony_9  harmony_10  \\\n",
      "V3F1_CAACGGCAGTAAACAC  -0.746696   0.330887   1.457195  -0.677314   -0.956127   \n",
      "V3F3_GAGACCCTCTGAGCAT  -0.311725  -0.178832  -0.569134   0.065686    0.931873   \n",
      "V3F1_GAGGGATGTAGCCCTG  -1.162711   0.215706   0.705806   0.393240    0.137744   \n",
      "V3F3_ACGTAGTCAGGACAGT   2.818753  -3.793611   2.078421  -2.440817   -1.163426   \n",
      "V3M1_ACCAAACCAAGTGACG   4.358617  -0.906037  -0.747231  -2.364545    4.069403   \n",
      "\n",
      "                       ...  harmony_42  harmony_43  harmony_44  harmony_45  \\\n",
      "V3F1_CAACGGCAGTAAACAC  ...   -0.036598    1.602183    0.574124   -0.239280   \n",
      "V3F3_GAGACCCTCTGAGCAT  ...   -0.323726   -0.114784    1.245618   -0.139905   \n",
      "V3F1_GAGGGATGTAGCCCTG  ...    0.077295    0.352615    1.054936   -0.325877   \n",
      "V3F3_ACGTAGTCAGGACAGT  ...    0.312360   -0.439145    0.680239   -0.625069   \n",
      "V3M1_ACCAAACCAAGTGACG  ...    0.721068    1.922307   -1.130376    1.164708   \n",
      "\n",
      "                       harmony_46  harmony_47  harmony_48  harmony_49  \\\n",
      "V3F1_CAACGGCAGTAAACAC   -2.090577    2.606684    1.450492   -0.762040   \n",
      "V3F3_GAGACCCTCTGAGCAT   -0.627588   -0.173861   -0.727426    0.122712   \n",
      "V3F1_GAGGGATGTAGCCCTG    1.450812   -0.369448    0.301969    2.287084   \n",
      "V3F3_ACGTAGTCAGGACAGT    1.545470    3.538088   -1.181776   -1.971538   \n",
      "V3M1_ACCAAACCAAGTGACG   -1.658798    1.150347   -1.216929   -1.809795   \n",
      "\n",
      "                       harmony_50        OR  \n",
      "V3F1_CAACGGCAGTAAACAC    0.128525   Olfr477  \n",
      "V3F3_GAGACCCTCTGAGCAT    1.021159   Olfr354  \n",
      "V3F1_GAGGGATGTAGCCCTG    1.284438   Olfr711  \n",
      "V3F3_ACGTAGTCAGGACAGT    1.324267     Olfr3  \n",
      "V3M1_ACCAAACCAAGTGACG    2.002381  Olfr1080  \n",
      "\n",
      "[5 rows x 51 columns]\n"
     ]
    }
   ],
   "source": [
    "\n",
    "df.rename(columns={\"observed\": \"OR\"}, inplace=True)\n",
    "print(df.head())"
   ]
  },
  {
   "cell_type": "code",
   "execution_count": 112,
   "metadata": {},
   "outputs": [],
   "source": [
    "#df.drop(df.columns[40:50], axis=1,inplace=True)\n",
    "#print(df.head())"
   ]
  },
  {
   "cell_type": "code",
   "execution_count": 113,
   "metadata": {},
   "outputs": [],
   "source": [
    "df = df[df[\"OR\"].isin(ORs)]"
   ]
  },
  {
   "cell_type": "code",
   "execution_count": 114,
   "metadata": {},
   "outputs": [
    {
     "name": "stdout",
     "output_type": "stream",
     "text": [
      "['Olfr1000', 'Olfr1031', 'Olfr1086', 'Olfr118', 'Olfr1357', 'Olfr1424', 'Olfr1477', 'Olfr1496', 'Olfr433', 'Olfr517', 'Olfr749', 'Olfr822', 'Olfr994']\n"
     ]
    }
   ],
   "source": [
    "ORs_to_exclude = [x for x in ORs if len(df[df[\"OR\"] == x]) < min_cells]\n",
    "print(ORs_to_exclude)\n",
    "df = df[~df[\"OR\"].isin(ORs_to_exclude)]"
   ]
  },
  {
   "cell_type": "code",
   "execution_count": 115,
   "metadata": {},
   "outputs": [
    {
     "name": "stdout",
     "output_type": "stream",
     "text": [
      "13 ORs with Slide-seq coordinates but no gene expression\n",
      "64 ORs remaining\n"
     ]
    }
   ],
   "source": [
    "print(\"{} ORs with Slide-seq coordinates but no gene expression\".format(len(ORs_to_exclude)))\n",
    "ORs = [x for x in ORs if len(df[df[\"OR\"] == x]) >= min_cells]\n",
    "print(\"{} ORs remaining\".format(len(ORs)))"
   ]
  },
  {
   "cell_type": "code",
   "execution_count": 116,
   "metadata": {},
   "outputs": [],
   "source": [
    "n_col = len(df.columns)\n",
    "appended_data = []\n",
    "for z in ORs:\n",
    "    OR = z\n",
    "    X_train = df[(df[\"OR\"] != OR)].values[:,0:(n_col - 1)]\n",
    "    X_test = df[(df[\"OR\"] == OR)].values[:,0:(n_col - 1)]\n",
    "    train_ors = np.array(df[(df[\"OR\"] != OR)].iloc[:,(n_col - 1)])\n",
    "    test_ors = np.array(df[(df[\"OR\"] == OR)].iloc[:,(n_col - 1)])\n",
    "    \n",
    "    #oversample = BorderlineSMOTE(random_state=random_state, k_neighbors=4)\n",
    "    #oversample = ADASYN(sampling_strategy='minority')\n",
    "    oversample = BorderlineSMOTE(random_state=random_state)\n",
    "    X_train, train_ors = oversample.fit_resample(X_train, train_ors)\n",
    "\n",
    "    y_train = []\n",
    "    for i in range(train_ors.shape[0]):\n",
    "        y_train.append([coords[train_ors[i]][\"X\"], coords[train_ors[i]][\"Y\"]])\n",
    "    y_test = []\n",
    "    for i in range(test_ors.shape[0]):\n",
    "        y_test.append([coords[test_ors[i]][\"X\"], coords[test_ors[i]][\"Y\"]])\n",
    "    y_train = np.array(y_train)\n",
    "    y_test = np.array(y_test)\n",
    "    \n",
    "    \n",
    "    model.fit(X_train, y_train)\n",
    "    y_pred = model.predict(X_test)\n",
    "    for i in range(y_test.shape[0]):\n",
    "        appended_data.append([\"x\", OR, y_test[i,0], y_pred[i,0]])\n",
    "        appended_data.append([\"y\", OR, y_test[i,1], y_pred[i,1]])"
   ]
  },
  {
   "cell_type": "code",
   "execution_count": 123,
   "metadata": {},
   "outputs": [],
   "source": [
    "appended_data = pd.DataFrame(appended_data, columns = [\"axis\",\"OR\",\"observed\",\"predicted\"])"
   ]
  },
  {
   "cell_type": "code",
   "execution_count": 124,
   "metadata": {},
   "outputs": [],
   "source": [
    "datax = appended_data[appended_data[\"axis\"] == \"x\"]\n",
    "datay = appended_data[appended_data[\"axis\"] == \"y\"]\n",
    "datax = datax.groupby(['OR']).mean()\n",
    "datay = datay.groupby(['OR']).mean()"
   ]
  },
  {
   "cell_type": "code",
   "execution_count": 125,
   "metadata": {},
   "outputs": [
    {
     "name": "stdout",
     "output_type": "stream",
     "text": [
      "X R2 = 0.719421325081337 \t Y R2 = 0.8341772968537957\n"
     ]
    }
   ],
   "source": [
    "print(\"X R2 = {} \\t Y R2 = {}\".format(r2_score(datax.iloc[:,0],datax.iloc[:,1]),r2_score(datay.iloc[:,0],datay.iloc[:,1])))"
   ]
  },
  {
   "cell_type": "code",
   "execution_count": 127,
   "metadata": {},
   "outputs": [],
   "source": [
    "datax2.to_csv(\"data/LR_LOO_x.csv\")\n",
    "datay2.to_csv(\"data/LR_LOO_y.csv\")"
   ]
  },
  {
   "cell_type": "code",
   "execution_count": 126,
   "metadata": {},
   "outputs": [
    {
     "name": "stdout",
     "output_type": "stream",
     "text": [
      "X MAE = 202.31505870197458 \t Y MAE = 230.41276041725965\n"
     ]
    }
   ],
   "source": [
    "print(\"X MAE = {} \\t Y MAE = {}\".format(mean_absolute_error(datax.iloc[:,0],datax.iloc[:,1])*130,mean_absolute_error(datay.iloc[:,0],datay.iloc[:,1])*0.65))"
   ]
  },
  {
   "cell_type": "code",
   "execution_count": null,
   "metadata": {},
   "outputs": [],
   "source": []
  }
 ],
 "metadata": {
  "kernelspec": {
   "display_name": "Python 3",
   "language": "python",
   "name": "python3"
  },
  "language_info": {
   "codemirror_mode": {
    "name": "ipython",
    "version": 3
   },
   "file_extension": ".py",
   "mimetype": "text/x-python",
   "name": "python",
   "nbconvert_exporter": "python",
   "pygments_lexer": "ipython3",
   "version": "3.7.6"
  }
 },
 "nbformat": 4,
 "nbformat_minor": 4
}
