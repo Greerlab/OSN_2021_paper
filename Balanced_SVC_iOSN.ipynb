{
 "cells": [
  {
   "cell_type": "code",
   "execution_count": 2,
   "metadata": {},
   "outputs": [],
   "source": [
    "import pandas as pd\n",
    "from sklearn.preprocessing import LabelEncoder\n",
    "from sklearn.model_selection import StratifiedShuffleSplit\n",
    "from sklearn.metrics import accuracy_score, f1_score, make_scorer, balanced_accuracy_score\n",
    "import numpy as np\n",
    "import random\n",
    "from sklearn.svm import SVC\n",
    "from sklearn import metrics"
   ]
  },
  {
   "cell_type": "code",
   "execution_count": 3,
   "metadata": {},
   "outputs": [
    {
     "data": {
      "text/html": [
       "<div>\n",
       "<style scoped>\n",
       "    .dataframe tbody tr th:only-of-type {\n",
       "        vertical-align: middle;\n",
       "    }\n",
       "\n",
       "    .dataframe tbody tr th {\n",
       "        vertical-align: top;\n",
       "    }\n",
       "\n",
       "    .dataframe thead th {\n",
       "        text-align: right;\n",
       "    }\n",
       "</style>\n",
       "<table border=\"1\" class=\"dataframe\">\n",
       "  <thead>\n",
       "    <tr style=\"text-align: right;\">\n",
       "      <th></th>\n",
       "      <th>SPC_1</th>\n",
       "      <th>SPC_2</th>\n",
       "      <th>SPC_3</th>\n",
       "      <th>SPC_4</th>\n",
       "      <th>SPC_5</th>\n",
       "      <th>SPC_6</th>\n",
       "      <th>SPC_7</th>\n",
       "      <th>SPC_8</th>\n",
       "      <th>SPC_9</th>\n",
       "      <th>SPC_10</th>\n",
       "      <th>...</th>\n",
       "      <th>SPC_42</th>\n",
       "      <th>SPC_43</th>\n",
       "      <th>SPC_44</th>\n",
       "      <th>SPC_45</th>\n",
       "      <th>SPC_46</th>\n",
       "      <th>SPC_47</th>\n",
       "      <th>SPC_48</th>\n",
       "      <th>SPC_49</th>\n",
       "      <th>SPC_50</th>\n",
       "      <th>observed</th>\n",
       "    </tr>\n",
       "  </thead>\n",
       "  <tbody>\n",
       "    <tr>\n",
       "      <th>V3F1_CAACGGCAGTAAACAC</th>\n",
       "      <td>-2.436386</td>\n",
       "      <td>-5.286533</td>\n",
       "      <td>-2.847332</td>\n",
       "      <td>2.566147</td>\n",
       "      <td>5.935313</td>\n",
       "      <td>-2.032978</td>\n",
       "      <td>0.304217</td>\n",
       "      <td>0.270347</td>\n",
       "      <td>-0.644762</td>\n",
       "      <td>-1.457629</td>\n",
       "      <td>...</td>\n",
       "      <td>1.314989</td>\n",
       "      <td>-2.082101</td>\n",
       "      <td>0.862903</td>\n",
       "      <td>0.244200</td>\n",
       "      <td>0.116634</td>\n",
       "      <td>-1.002064</td>\n",
       "      <td>0.234064</td>\n",
       "      <td>-0.620904</td>\n",
       "      <td>-0.339079</td>\n",
       "      <td>Olfr477</td>\n",
       "    </tr>\n",
       "    <tr>\n",
       "      <th>V3F3_GAGACCCTCTGAGCAT</th>\n",
       "      <td>0.230544</td>\n",
       "      <td>-9.144450</td>\n",
       "      <td>3.919632</td>\n",
       "      <td>2.055721</td>\n",
       "      <td>4.186333</td>\n",
       "      <td>-0.642285</td>\n",
       "      <td>-0.167196</td>\n",
       "      <td>-1.993198</td>\n",
       "      <td>-0.309246</td>\n",
       "      <td>-0.883709</td>\n",
       "      <td>...</td>\n",
       "      <td>-0.966048</td>\n",
       "      <td>0.431340</td>\n",
       "      <td>-0.427532</td>\n",
       "      <td>0.625230</td>\n",
       "      <td>1.988114</td>\n",
       "      <td>-1.800207</td>\n",
       "      <td>0.905261</td>\n",
       "      <td>0.758330</td>\n",
       "      <td>1.099580</td>\n",
       "      <td>Olfr354</td>\n",
       "    </tr>\n",
       "    <tr>\n",
       "      <th>V3F1_GAGGGATGTAGCCCTG</th>\n",
       "      <td>-0.442758</td>\n",
       "      <td>-4.558211</td>\n",
       "      <td>-11.266653</td>\n",
       "      <td>0.069706</td>\n",
       "      <td>2.658198</td>\n",
       "      <td>-0.948847</td>\n",
       "      <td>-2.732315</td>\n",
       "      <td>-1.923870</td>\n",
       "      <td>-2.024378</td>\n",
       "      <td>-4.713357</td>\n",
       "      <td>...</td>\n",
       "      <td>0.544582</td>\n",
       "      <td>-0.023299</td>\n",
       "      <td>-0.064075</td>\n",
       "      <td>-0.528713</td>\n",
       "      <td>1.274820</td>\n",
       "      <td>-1.358156</td>\n",
       "      <td>0.575562</td>\n",
       "      <td>0.256719</td>\n",
       "      <td>-0.858667</td>\n",
       "      <td>Olfr711</td>\n",
       "    </tr>\n",
       "    <tr>\n",
       "      <th>V3F3_ACGTAGTCAGGACAGT</th>\n",
       "      <td>3.065503</td>\n",
       "      <td>-8.600753</td>\n",
       "      <td>-2.948539</td>\n",
       "      <td>5.526509</td>\n",
       "      <td>-2.190336</td>\n",
       "      <td>-1.581605</td>\n",
       "      <td>-4.218123</td>\n",
       "      <td>3.054864</td>\n",
       "      <td>-1.292138</td>\n",
       "      <td>-5.544259</td>\n",
       "      <td>...</td>\n",
       "      <td>-1.130459</td>\n",
       "      <td>-0.660782</td>\n",
       "      <td>-2.084247</td>\n",
       "      <td>-0.833999</td>\n",
       "      <td>-0.119654</td>\n",
       "      <td>-0.726499</td>\n",
       "      <td>-0.229057</td>\n",
       "      <td>-0.556224</td>\n",
       "      <td>1.687474</td>\n",
       "      <td>Olfr3</td>\n",
       "    </tr>\n",
       "    <tr>\n",
       "      <th>V3M1_ACCAAACCAAGTGACG</th>\n",
       "      <td>-4.673190</td>\n",
       "      <td>2.219611</td>\n",
       "      <td>-4.118749</td>\n",
       "      <td>-0.544320</td>\n",
       "      <td>-8.157987</td>\n",
       "      <td>5.068371</td>\n",
       "      <td>1.010966</td>\n",
       "      <td>7.572142</td>\n",
       "      <td>-8.647740</td>\n",
       "      <td>-2.171079</td>\n",
       "      <td>...</td>\n",
       "      <td>1.419901</td>\n",
       "      <td>0.652934</td>\n",
       "      <td>0.434828</td>\n",
       "      <td>-1.140898</td>\n",
       "      <td>0.403794</td>\n",
       "      <td>-0.017617</td>\n",
       "      <td>0.654036</td>\n",
       "      <td>-2.253383</td>\n",
       "      <td>1.210954</td>\n",
       "      <td>Olfr1080</td>\n",
       "    </tr>\n",
       "  </tbody>\n",
       "</table>\n",
       "<p>5 rows × 51 columns</p>\n",
       "</div>"
      ],
      "text/plain": [
       "                          SPC_1     SPC_2      SPC_3     SPC_4     SPC_5  \\\n",
       "V3F1_CAACGGCAGTAAACAC -2.436386 -5.286533  -2.847332  2.566147  5.935313   \n",
       "V3F3_GAGACCCTCTGAGCAT  0.230544 -9.144450   3.919632  2.055721  4.186333   \n",
       "V3F1_GAGGGATGTAGCCCTG -0.442758 -4.558211 -11.266653  0.069706  2.658198   \n",
       "V3F3_ACGTAGTCAGGACAGT  3.065503 -8.600753  -2.948539  5.526509 -2.190336   \n",
       "V3M1_ACCAAACCAAGTGACG -4.673190  2.219611  -4.118749 -0.544320 -8.157987   \n",
       "\n",
       "                          SPC_6     SPC_7     SPC_8     SPC_9    SPC_10  ...  \\\n",
       "V3F1_CAACGGCAGTAAACAC -2.032978  0.304217  0.270347 -0.644762 -1.457629  ...   \n",
       "V3F3_GAGACCCTCTGAGCAT -0.642285 -0.167196 -1.993198 -0.309246 -0.883709  ...   \n",
       "V3F1_GAGGGATGTAGCCCTG -0.948847 -2.732315 -1.923870 -2.024378 -4.713357  ...   \n",
       "V3F3_ACGTAGTCAGGACAGT -1.581605 -4.218123  3.054864 -1.292138 -5.544259  ...   \n",
       "V3M1_ACCAAACCAAGTGACG  5.068371  1.010966  7.572142 -8.647740 -2.171079  ...   \n",
       "\n",
       "                         SPC_42    SPC_43    SPC_44    SPC_45    SPC_46  \\\n",
       "V3F1_CAACGGCAGTAAACAC  1.314989 -2.082101  0.862903  0.244200  0.116634   \n",
       "V3F3_GAGACCCTCTGAGCAT -0.966048  0.431340 -0.427532  0.625230  1.988114   \n",
       "V3F1_GAGGGATGTAGCCCTG  0.544582 -0.023299 -0.064075 -0.528713  1.274820   \n",
       "V3F3_ACGTAGTCAGGACAGT -1.130459 -0.660782 -2.084247 -0.833999 -0.119654   \n",
       "V3M1_ACCAAACCAAGTGACG  1.419901  0.652934  0.434828 -1.140898  0.403794   \n",
       "\n",
       "                         SPC_47    SPC_48    SPC_49    SPC_50  observed  \n",
       "V3F1_CAACGGCAGTAAACAC -1.002064  0.234064 -0.620904 -0.339079   Olfr477  \n",
       "V3F3_GAGACCCTCTGAGCAT -1.800207  0.905261  0.758330  1.099580   Olfr354  \n",
       "V3F1_GAGGGATGTAGCCCTG -1.358156  0.575562  0.256719 -0.858667   Olfr711  \n",
       "V3F3_ACGTAGTCAGGACAGT -0.726499 -0.229057 -0.556224  1.687474     Olfr3  \n",
       "V3M1_ACCAAACCAAGTGACG -0.017617  0.654036 -2.253383  1.210954  Olfr1080  \n",
       "\n",
       "[5 rows x 51 columns]"
      ]
     },
     "execution_count": 3,
     "metadata": {},
     "output_type": "execute_result"
    }
   ],
   "source": [
    "train = pd.read_csv('data/svm_OSN_50SPCs_3000G.csv',index_col=0 )\n",
    "#train = train.reset_index(drop = True)\n",
    "train.head()"
   ]
  },
  {
   "cell_type": "code",
   "execution_count": 4,
   "metadata": {},
   "outputs": [],
   "source": [
    "le = LabelEncoder()\n",
    "X = train.values[:,:50]\n",
    "y = train[\"observed\"].values\n",
    "y = le.fit_transform(y)"
   ]
  },
  {
   "cell_type": "code",
   "execution_count": 5,
   "metadata": {},
   "outputs": [
    {
     "data": {
      "text/plain": [
       "SVC(C=0.01, class_weight='balanced', decision_function_shape='ovo',\n",
       "    kernel='linear')"
      ]
     },
     "execution_count": 5,
     "metadata": {},
     "output_type": "execute_result"
    }
   ],
   "source": [
    "model = SVC(C = 0.01,kernel = \"linear\",class_weight =  \"balanced\", decision_function_shape = \"ovo\")\n",
    "model.fit(X, y)"
   ]
  },
  {
   "cell_type": "code",
   "execution_count": 6,
   "metadata": {},
   "outputs": [],
   "source": [
    "test = pd.read_csv('data/svm_iOSN_50SPCs_3000G.csv',index_col=0)\n",
    "#test = test.reset_index(drop = True)"
   ]
  },
  {
   "cell_type": "code",
   "execution_count": 7,
   "metadata": {},
   "outputs": [],
   "source": [
    "y_pred = model.predict(test.values[:,:50])"
   ]
  },
  {
   "cell_type": "code",
   "execution_count": 8,
   "metadata": {},
   "outputs": [
    {
     "name": "stderr",
     "output_type": "stream",
     "text": [
      "/Users/plg/opt/anaconda3/lib/python3.7/site-packages/sklearn/metrics/_classification.py:1850: UserWarning: y_pred contains classes not in y_true\n",
      "  warnings.warn('y_pred contains classes not in y_true')\n"
     ]
    },
    {
     "data": {
      "text/plain": [
       "0.07081089374217203"
      ]
     },
     "execution_count": 8,
     "metadata": {},
     "output_type": "execute_result"
    }
   ],
   "source": [
    "balanced_accuracy_score(le.transform(test[\"observed\"].values), y_pred)"
   ]
  },
  {
   "cell_type": "code",
   "execution_count": 9,
   "metadata": {},
   "outputs": [],
   "source": [
    "d = {'bc':test.index.values.tolist(),'Ob':test[\"observed\"].values,'Pd':le.inverse_transform(y_pred)}\n",
    "df = pd.DataFrame(d)"
   ]
  },
  {
   "cell_type": "code",
   "execution_count": 10,
   "metadata": {},
   "outputs": [],
   "source": [
    "df.to_csv(\"data/iOSN_prediction_result.csv\")"
   ]
  },
  {
   "cell_type": "code",
   "execution_count": 12,
   "metadata": {},
   "outputs": [],
   "source": [
    "###shuffle the train and predict, should be ~ 1/654\n",
    "ys = le.transform(train[\"observed\"].values)\n",
    "np.random.shuffle(ys)\n",
    "\n",
    "model = SVC(C = 0.01,kernel = \"linear\",class_weight =  \"balanced\", decision_function_shape = \"ovo\")\n",
    "model.fit(X, ys)\n",
    "test = pd.read_csv('data/svm_iOSN_50SPCs_3000G.csv',index_col=0) #Use the OR removed 654 OR OSN data with top 3000 variable genes to generate top 50 SPC\n",
    "test = train.reset_index(drop = True)"
   ]
  },
  {
   "cell_type": "code",
   "execution_count": 13,
   "metadata": {},
   "outputs": [
    {
     "data": {
      "text/plain": [
       "0.001412546393267042"
      ]
     },
     "execution_count": 13,
     "metadata": {},
     "output_type": "execute_result"
    }
   ],
   "source": [
    "y_pred = model.predict(test.values[:,:50])\n",
    "balanced_accuracy_score(le.transform(test[\"observed\"].values), y_pred)"
   ]
  },
  {
   "cell_type": "code",
   "execution_count": null,
   "metadata": {},
   "outputs": [],
   "source": []
  }
 ],
 "metadata": {
  "kernelspec": {
   "display_name": "Python 3",
   "language": "python",
   "name": "python3"
  },
  "language_info": {
   "codemirror_mode": {
    "name": "ipython",
    "version": 3
   },
   "file_extension": ".py",
   "mimetype": "text/x-python",
   "name": "python",
   "nbconvert_exporter": "python",
   "pygments_lexer": "ipython3",
   "version": "3.7.6"
  }
 },
 "nbformat": 4,
 "nbformat_minor": 4
}
