{
 "cells": [
  {
   "cell_type": "code",
   "execution_count": 1,
   "metadata": {},
   "outputs": [],
   "source": [
    "import scrublet as scr\n",
    "import numpy as np\n",
    "import pandas as pd"
   ]
  },
  {
   "cell_type": "code",
   "execution_count": 2,
   "metadata": {},
   "outputs": [],
   "source": [
    "data = pd.read_csv('data/raw_count_matrix.txt', sep=\"\\t\",index_col=0)"
   ]
  },
  {
   "cell_type": "code",
   "execution_count": 3,
   "metadata": {},
   "outputs": [
    {
     "name": "stdout",
     "output_type": "stream",
     "text": [
      "Counts matrix shape: 34572 rows, 72656 columns\n"
     ]
    }
   ],
   "source": [
    "print('Counts matrix shape: {} rows, {} columns'.format(data.shape[0], data.shape[1]))"
   ]
  },
  {
   "cell_type": "code",
   "execution_count": 4,
   "metadata": {},
   "outputs": [],
   "source": [
    "samples = [\"V3F1\",\"V3F2\",\"V3F3\",\"V3M1\",\"V3M2\",\"V3M3\"]"
   ]
  },
  {
   "cell_type": "code",
   "execution_count": 5,
   "metadata": {},
   "outputs": [
    {
     "name": "stdout",
     "output_type": "stream",
     "text": [
      "V3F1 shape: 34572 rows, 12412 columns\n",
      "Preprocessing...\n",
      "Simulating doublets...\n",
      "Embedding transcriptomes using PCA...\n",
      "Calculating doublet scores...\n",
      "Automatically set threshold at doublet score = 0.63\n",
      "Detected doublet rate = 0.0%\n",
      "Estimated detectable doublet fraction = 0.1%\n",
      "Overall doublet rate:\n",
      "\tExpected   = 10.0%\n",
      "\tEstimated  = 53.3%\n",
      "Elapsed time: 14.2 seconds\n",
      "V3F2 shape: 34572 rows, 10515 columns\n",
      "Preprocessing...\n",
      "Simulating doublets...\n",
      "Embedding transcriptomes using PCA...\n",
      "Calculating doublet scores...\n",
      "Automatically set threshold at doublet score = 0.46\n",
      "Detected doublet rate = 0.6%\n",
      "Estimated detectable doublet fraction = 5.3%\n",
      "Overall doublet rate:\n",
      "\tExpected   = 10.0%\n",
      "\tEstimated  = 10.9%\n",
      "Elapsed time: 9.0 seconds\n",
      "V3F3 shape: 34572 rows, 13657 columns\n",
      "Preprocessing...\n",
      "Simulating doublets...\n",
      "Embedding transcriptomes using PCA...\n",
      "Calculating doublet scores...\n",
      "Automatically set threshold at doublet score = 0.69\n",
      "Detected doublet rate = 0.0%\n",
      "Estimated detectable doublet fraction = 0.1%\n",
      "Overall doublet rate:\n",
      "\tExpected   = 10.0%\n",
      "\tEstimated  = 22.2%\n",
      "Elapsed time: 12.6 seconds\n",
      "V3M1 shape: 34572 rows, 10584 columns\n",
      "Preprocessing...\n",
      "Simulating doublets...\n",
      "Embedding transcriptomes using PCA...\n",
      "Calculating doublet scores...\n",
      "Automatically set threshold at doublet score = 0.71\n",
      "Detected doublet rate = 0.1%\n",
      "Estimated detectable doublet fraction = 1.6%\n",
      "Overall doublet rate:\n",
      "\tExpected   = 10.0%\n",
      "\tEstimated  = 6.5%\n",
      "Elapsed time: 9.6 seconds\n",
      "V3M2 shape: 34572 rows, 11362 columns\n",
      "Preprocessing...\n",
      "Simulating doublets...\n",
      "Embedding transcriptomes using PCA...\n",
      "Calculating doublet scores...\n",
      "Automatically set threshold at doublet score = 0.62\n",
      "Detected doublet rate = 0.1%\n",
      "Estimated detectable doublet fraction = 0.5%\n",
      "Overall doublet rate:\n",
      "\tExpected   = 10.0%\n",
      "\tEstimated  = 13.2%\n",
      "Elapsed time: 9.7 seconds\n",
      "V3M3 shape: 34572 rows, 14126 columns\n",
      "Preprocessing...\n",
      "Simulating doublets...\n",
      "Embedding transcriptomes using PCA...\n",
      "Calculating doublet scores...\n",
      "Automatically set threshold at doublet score = 0.64\n",
      "Detected doublet rate = 0.0%\n",
      "Estimated detectable doublet fraction = 0.3%\n",
      "Overall doublet rate:\n",
      "\tExpected   = 10.0%\n",
      "\tEstimated  = 2.8%\n",
      "Elapsed time: 13.3 seconds\n"
     ]
    }
   ],
   "source": [
    "for i in range(len(samples)):\n",
    "    input_matrix = data.filter(regex=samples[i],axis=1)\n",
    "    sample_name = samples[i]\n",
    "    print('{} shape: {} rows, {} columns'.format(samples[i],input_matrix.shape[0], input_matrix.shape[1]))\n",
    "    scrub = scr.Scrublet(input_matrix.T, expected_doublet_rate=0.1)\n",
    "    doublet_scores, predicted_doublets = scrub.scrub_doublets(min_counts=2, min_cells=3, min_gene_variability_pctl=85, n_prin_comps=30)\n",
    "    bc = input_matrix.columns\n",
    "    df = pd.DataFrame({'bc': bc, 'doublet_scores':doublet_scores, \"predicted_doublets\":predicted_doublets})\n",
    "    df.to_csv(\"data/\"+sample_name + \"_db_score.txt\", sep='\\t', encoding='utf-8', index =False)"
   ]
  },
  {
   "cell_type": "code",
   "execution_count": null,
   "metadata": {},
   "outputs": [],
   "source": []
  }
 ],
 "metadata": {
  "kernelspec": {
   "display_name": "Python 3",
   "language": "python",
   "name": "python3"
  },
  "language_info": {
   "codemirror_mode": {
    "name": "ipython",
    "version": 3
   },
   "file_extension": ".py",
   "mimetype": "text/x-python",
   "name": "python",
   "nbconvert_exporter": "python",
   "pygments_lexer": "ipython3",
   "version": "3.9.6"
  }
 },
 "nbformat": 4,
 "nbformat_minor": 4
}
