{
 "cells": [
  {
   "cell_type": "code",
   "execution_count": 2,
   "id": "bf349253-2eeb-43a9-b296-37aedb70b72b",
   "metadata": {},
   "outputs": [],
   "source": [
    "import pandas as pd\n",
    "from sklearn.preprocessing import LabelEncoder\n",
    "from sklearn.svm import SVC\n",
    "from imblearn.under_sampling import RandomUnderSampler \n",
    "import numpy as np\n",
    "from sklearn.metrics import balanced_accuracy_score"
   ]
  },
  {
   "cell_type": "code",
   "execution_count": 4,
   "id": "e86fe193-0911-49ad-905e-67efdac0d254",
   "metadata": {},
   "outputs": [
    {
     "name": "stdout",
     "output_type": "stream",
     "text": [
      "0.010525742952133932\n"
     ]
    }
   ],
   "source": [
    "train_file_name = \"train_AG.csv\"\n",
    "test_file_name = \"test_AG.csv\"\n",
    "\n",
    "train = pd.read_csv(train_file_name, index_col = 0)\n",
    "train = train.reset_index(drop = True)\n",
    "X_train = train.values[:,:18]\n",
    "y_train = train[\"OR\"].values\n",
    "\n",
    "test = pd.read_csv(test_file_name, index_col = 0)\n",
    "X_test = test.values[:,:18]\n",
    "y_test = test[\"OR\"].values\n",
    "\n",
    "le = LabelEncoder()\n",
    "y_train = le.fit_transform(y_train)\n",
    "\n",
    "undersample = RandomUnderSampler(sampling_strategy='majority')\n",
    "X_train, y_train = undersample.fit_resample(X_train, y_train)\n",
    "\n",
    "model = SVC(C = 0.01, class_weight = 'balanced', decision_function_shape = 'ovo', kernel = 'linear', random_state = 12)\n",
    "model.fit(X_train, y_train)\n",
    "\n",
    "y_pred = model.predict(X_test)\n",
    "y_pred = le.inverse_transform(y_pred)\n",
    "print(balanced_accuracy_score(y_test, y_pred))\n",
    "\n",
    "#dicts = {'barcode': test.index, 'observed': y_test, 'predicted': y_pred}\n",
    "#df = pd.DataFrame(dicts)\n",
    "#df.to_csv(\"data/Result_iOSN_prediction.csv\")"
   ]
  },
  {
   "cell_type": "code",
   "execution_count": 5,
   "id": "9a001832-790b-4234-a7d8-07dbf7a61bed",
   "metadata": {},
   "outputs": [],
   "source": [
    "df = pd.DataFrame(model.coef_)\n",
    "df = abs(df)\n",
    "df = df.mean(axis = 0)\n",
    "df.to_csv(\"SVM_AG_coef.csv\")"
   ]
  },
  {
   "cell_type": "code",
   "execution_count": null,
   "id": "c771b2ae-7c79-4725-b34d-df520f6c934e",
   "metadata": {},
   "outputs": [],
   "source": []
  }
 ],
 "metadata": {
  "kernelspec": {
   "display_name": "Python 3 (ipykernel)",
   "language": "python",
   "name": "python3"
  },
  "language_info": {
   "codemirror_mode": {
    "name": "ipython",
    "version": 3
   },
   "file_extension": ".py",
   "mimetype": "text/x-python",
   "name": "python",
   "nbconvert_exporter": "python",
   "pygments_lexer": "ipython3",
   "version": "3.9.7"
  }
 },
 "nbformat": 4,
 "nbformat_minor": 5
}
