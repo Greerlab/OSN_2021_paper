{
 "cells": [
  {
   "cell_type": "code",
   "execution_count": 24,
   "id": "770b012b-7c2d-4ca3-8e1b-c6cb7aabb959",
   "metadata": {},
   "outputs": [],
   "source": [
    "import pandas as pd\n",
    "from sklearn.preprocessing import LabelEncoder\n",
    "from sklearn.model_selection import StratifiedShuffleSplit\n",
    "from sklearn.metrics import accuracy_score, f1_score, make_scorer, balanced_accuracy_score\n",
    "import numpy as np\n",
    "from sklearn.svm import SVC"
   ]
  },
  {
   "cell_type": "code",
   "execution_count": 25,
   "id": "12bbfa5b-bea2-4c09-b00d-9ecc77b6d518",
   "metadata": {},
   "outputs": [],
   "source": [
    "data = pd.read_csv(\"data/AG_OSN.csv\", index_col =0)\n",
    "data = data.reset_index(drop = True)\n",
    "PCs = data.shape[1]-1\n",
    "X = data.values[:,:PCs]\n",
    "y = data[\"observed\"].values\n",
    "le = LabelEncoder()\n",
    "y = le.fit_transform(y)"
   ]
  },
  {
   "cell_type": "code",
   "execution_count": 26,
   "id": "7f7a7894-a5f9-4550-9460-64f165f5250b",
   "metadata": {},
   "outputs": [
    {
     "data": {
      "text/plain": [
       "SVC(C=0.01, class_weight='balanced', decision_function_shape='ovo',\n",
       "    kernel='linear')"
      ]
     },
     "execution_count": 26,
     "metadata": {},
     "output_type": "execute_result"
    }
   ],
   "source": [
    "model = SVC(C = 0.01,kernel = \"linear\",class_weight =  \"balanced\", decision_function_shape = \"ovo\")\n",
    "model.fit(X, y)"
   ]
  },
  {
   "cell_type": "code",
   "execution_count": 27,
   "id": "537e9f0e-b945-46a7-8251-86848361c256",
   "metadata": {},
   "outputs": [],
   "source": [
    "coef = pd.DataFrame(model.coef_)"
   ]
  },
  {
   "cell_type": "code",
   "execution_count": 28,
   "id": "27c2125a-3b7e-4e4e-9c4e-fafb02a0e183",
   "metadata": {},
   "outputs": [],
   "source": [
    "coef.to_csv(\"data/AG_OSN_coef.csv\")"
   ]
  },
  {
   "cell_type": "code",
   "execution_count": null,
   "id": "c612c90f-4b03-4220-b811-c1347bc9fc67",
   "metadata": {},
   "outputs": [],
   "source": []
  }
 ],
 "metadata": {
  "kernelspec": {
   "display_name": "Python 3",
   "language": "python",
   "name": "python3"
  },
  "language_info": {
   "codemirror_mode": {
    "name": "ipython",
    "version": 3
   },
   "file_extension": ".py",
   "mimetype": "text/x-python",
   "name": "python",
   "nbconvert_exporter": "python",
   "pygments_lexer": "ipython3",
   "version": "3.9.6"
  }
 },
 "nbformat": 4,
 "nbformat_minor": 5
}
